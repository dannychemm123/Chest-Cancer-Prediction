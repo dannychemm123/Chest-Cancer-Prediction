{
 "cells": [
  {
   "cell_type": "code",
   "execution_count": 1,
   "metadata": {},
   "outputs": [],
   "source": [
    "import os"
   ]
  },
  {
   "cell_type": "code",
   "execution_count": 2,
   "metadata": {},
   "outputs": [
    {
     "data": {
      "text/plain": [
       "'f:\\\\DATA-SCIENCE\\\\Chest-Cancer-Prediction\\\\research'"
      ]
     },
     "execution_count": 2,
     "metadata": {},
     "output_type": "execute_result"
    }
   ],
   "source": [
    "%pwd"
   ]
  },
  {
   "cell_type": "code",
   "execution_count": 3,
   "metadata": {},
   "outputs": [],
   "source": [
    "os.chdir('../')"
   ]
  },
  {
   "cell_type": "code",
   "execution_count": 4,
   "metadata": {},
   "outputs": [],
   "source": [
    "# prediction.py\n",
    "import tensorflow as tf\n",
    "import keras.utils as image\n",
    "import numpy as np\n",
    "from pathlib import Path\n",
    "\n",
    "class PredictionPipeline:\n",
    "    def __init__(self, model_path, image_size=(224, 224)):\n",
    "        self.model_path = model_path\n",
    "        self.image_size = image_size\n",
    "        self.model = self.load_model()\n",
    "\n",
    "    def load_model(self):\n",
    "        try:\n",
    "            model = tf.keras.models.load_model(self.model_path)\n",
    "            print(\"Model loaded successfully.\")\n",
    "            return model\n",
    "        except Exception as e:\n",
    "            print(f\"Error loading model: {e}\")\n",
    "            return None\n",
    "\n",
    "    def preprocess_image(self, image_path):\n",
    "        img = image.load_img(image_path, target_size=self.image_size)\n",
    "        img_array = image.img_to_array(img)\n",
    "        img_array = np.expand_dims(img_array, axis=0)  # Add a new axis for batch dimension\n",
    "        img_array /= 255.  # Assuming model expects pixel values to be scaled between 0 and 1\n",
    "        return img_array\n",
    "\n",
    "    def predict(self, image_path):\n",
    "        processed_image = self.preprocess_image(image_path)\n",
    "        prediction = self.model.predict(processed_image)\n",
    "        predicted_class = np.argmax(prediction, axis=1)\n",
    "        print(predicted_class)\n",
    "\n",
    "        \n",
    "        if predicted_class[0] == 1:\n",
    "            prediction = 'Normal'\n",
    "        else:\n",
    "            prediction = 'Adenocarcinoma Cancer'\n",
    "\n",
    "        return [{\"image\": prediction}]\n",
    "\n",
    "# Usage example\n",
    "# predictor = Prediction('path_to_model.h5')\n",
    "# predicted_class = predictor.predict('path_to_image.jpg')\n",
    "# print(predicted_class)\n"
   ]
  },
  {
   "cell_type": "code",
   "execution_count": 8,
   "metadata": {},
   "outputs": [
    {
     "name": "stdout",
     "output_type": "stream",
     "text": [
      "Model loaded successfully.\n",
      "1/1 [==============================] - 1s 1s/step\n",
      "[1]\n",
      "[{'image': 'Normal'}]\n"
     ]
    }
   ],
   "source": [
    "# Usage example:\n",
    "model_path = os.path.join(\"model\", \"model.h5\")\n",
    "predictor = PredictionPipeline(model_path)\n",
    "#filename = 'ad13.png'  # Update this path\n",
    "filename = 'pre.jpg'\n",
    "prediction = predictor.predict(filename)\n",
    "print(prediction)"
   ]
  },
  {
   "cell_type": "code",
   "execution_count": null,
   "metadata": {},
   "outputs": [],
   "source": []
  }
 ],
 "metadata": {
  "kernelspec": {
   "display_name": "cancer",
   "language": "python",
   "name": "python3"
  },
  "language_info": {
   "codemirror_mode": {
    "name": "ipython",
    "version": 3
   },
   "file_extension": ".py",
   "mimetype": "text/x-python",
   "name": "python",
   "nbconvert_exporter": "python",
   "pygments_lexer": "ipython3",
   "version": "3.8.18"
  }
 },
 "nbformat": 4,
 "nbformat_minor": 2
}
