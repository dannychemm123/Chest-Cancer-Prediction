{
 "cells": [
  {
   "cell_type": "code",
   "execution_count": 3,
   "metadata": {},
   "outputs": [],
   "source": [
    "import os"
   ]
  },
  {
   "cell_type": "code",
   "execution_count": 4,
   "metadata": {},
   "outputs": [
    {
     "data": {
      "text/plain": [
       "'f:\\\\DATA-SCIENCE\\\\Chest-Cancer-Prediction\\\\research'"
      ]
     },
     "execution_count": 4,
     "metadata": {},
     "output_type": "execute_result"
    }
   ],
   "source": [
    "%pwd"
   ]
  },
  {
   "cell_type": "code",
   "execution_count": 5,
   "metadata": {},
   "outputs": [],
   "source": [
    "os.chdir('../')"
   ]
  },
  {
   "cell_type": "code",
   "execution_count": 6,
   "metadata": {},
   "outputs": [
    {
     "data": {
      "text/plain": [
       "'f:\\\\DATA-SCIENCE\\\\Chest-Cancer-Prediction'"
      ]
     },
     "execution_count": 6,
     "metadata": {},
     "output_type": "execute_result"
    }
   ],
   "source": [
    "%pwd"
   ]
  },
  {
   "cell_type": "code",
   "execution_count": 7,
   "metadata": {},
   "outputs": [],
   "source": [
    "import numpy as np\n",
    "from keras.models import load_model\n",
    "from keras.utils import load_img, img_to_array\n",
    "\n",
    "\n",
    "class PredictionPipeline:\n",
    "    def __init__(self, model_path, image_size=(224, 224)):\n",
    "        self.model_path = model_path\n",
    "        self.image_size = image_size\n",
    "        self.model = self.load_model()\n",
    "\n",
    "    def load_model(self):\n",
    "        \"\"\"Load and return the model.\"\"\"\n",
    "        return load_model(self.model_path)\n",
    "\n",
    "    def preprocess_image(self, image_path):\n",
    "        \"\"\"Preprocess the image to fit the model's input requirements.\"\"\"\n",
    "        img = load_img(image_path, target_size=self.image_size)\n",
    "        img = img_to_array(img)\n",
    "        img = np.expand_dims(img, axis=0)\n",
    "        return img\n",
    "\n",
    "    def predict(self, image_path):\n",
    "        \"\"\"Predict the class of the image.\"\"\"\n",
    "        test_image = self.preprocess_image(image_path)\n",
    "        result = np.argmax(self.model.predict(test_image),axis=1)\n",
    "        print(result)\n",
    "\n",
    "        # Interpret the result\n",
    "        if result[0] == 1:\n",
    "            prediction = 'Normal'\n",
    "        else:\n",
    "            prediction = 'Adenocarcinoma Cancer'\n",
    "\n",
    "        return [{\"image\": prediction}]\n",
    "\n",
    "\n"
   ]
  },
  {
   "cell_type": "code",
   "execution_count": 9,
   "metadata": {},
   "outputs": [
    {
     "name": "stdout",
     "output_type": "stream",
     "text": [
      "1/1 [==============================] - 1s 733ms/step\n",
      "[1]\n",
      "[{'image': 'Normal'}]\n"
     ]
    }
   ],
   "source": [
    "# Usage example:\n",
    "model_path = os.path.join(\"artifacts\",\"training\", \"model.h5\")\n",
    "predictor = PredictionPipeline(model_path)\n",
    "filename = '000002.png'  # Update this path\n",
    "prediction = predictor.predict(filename)\n",
    "print(prediction)"
   ]
  },
  {
   "cell_type": "code",
   "execution_count": null,
   "metadata": {},
   "outputs": [],
   "source": []
  }
 ],
 "metadata": {
  "kernelspec": {
   "display_name": "cancer",
   "language": "python",
   "name": "python3"
  },
  "language_info": {
   "codemirror_mode": {
    "name": "ipython",
    "version": 3
   },
   "file_extension": ".py",
   "mimetype": "text/x-python",
   "name": "python",
   "nbconvert_exporter": "python",
   "pygments_lexer": "ipython3",
   "version": "3.8.18"
  }
 },
 "nbformat": 4,
 "nbformat_minor": 2
}
